{
  "cells": [
    {
      "cell_type": "markdown",
      "metadata": {
        "id": "TtXqf3E7kpT9"
      },
      "source": [
        "#Date          :30-10-2022\n",
        "#Team ID       :PNT2022TMID46351 \n",
        "#Project name  :Retail Store Stock Inventory Analytics"
      ]
    },
    {
      "cell_type": "markdown",
      "metadata": {
        "id": "JXh7IVNNjbcl"
      },
      "source": [
        "1.Loading Datasets into tools"
      ]
    },
    {
      "cell_type": "code",
      "execution_count": null,
      "metadata": {
        "colab": {
          "base_uri": "https://localhost:8080/",
          "height": 39
        },
        "id": "2WgoXmvj3LpD",
        "outputId": "5a4c01e2-ec56-4d3b-9bed-6f80216f19af"
      },
      "outputs": [
        {
          "data": {
            "text/html": [
              "\n",
              "     <input type=\"file\" id=\"files-b1a38057-913d-42c7-957d-268545ce8ab7\" name=\"files[]\" multiple disabled\n",
              "        style=\"border:none\" />\n",
              "     <output id=\"result-b1a38057-913d-42c7-957d-268545ce8ab7\">\n",
              "      Upload widget is only available when the cell has been executed in the\n",
              "      current browser session. Please rerun this cell to enable.\n",
              "      </output>\n",
              "      <script>// Copyright 2017 Google LLC\n",
              "//\n",
              "// Licensed under the Apache License, Version 2.0 (the \"License\");\n",
              "// you may not use this file except in compliance with the License.\n",
              "// You may obtain a copy of the License at\n",
              "//\n",
              "//      http://www.apache.org/licenses/LICENSE-2.0\n",
              "//\n",
              "// Unless required by applicable law or agreed to in writing, software\n",
              "// distributed under the License is distributed on an \"AS IS\" BASIS,\n",
              "// WITHOUT WARRANTIES OR CONDITIONS OF ANY KIND, either express or implied.\n",
              "// See the License for the specific language governing permissions and\n",
              "// limitations under the License.\n",
              "\n",
              "/**\n",
              " * @fileoverview Helpers for google.colab Python module.\n",
              " */\n",
              "(function(scope) {\n",
              "function span(text, styleAttributes = {}) {\n",
              "  const element = document.createElement('span');\n",
              "  element.textContent = text;\n",
              "  for (const key of Object.keys(styleAttributes)) {\n",
              "    element.style[key] = styleAttributes[key];\n",
              "  }\n",
              "  return element;\n",
              "}\n",
              "\n",
              "// Max number of bytes which will be uploaded at a time.\n",
              "const MAX_PAYLOAD_SIZE = 100 * 1024;\n",
              "\n",
              "function _uploadFiles(inputId, outputId) {\n",
              "  const steps = uploadFilesStep(inputId, outputId);\n",
              "  const outputElement = document.getElementById(outputId);\n",
              "  // Cache steps on the outputElement to make it available for the next call\n",
              "  // to uploadFilesContinue from Python.\n",
              "  outputElement.steps = steps;\n",
              "\n",
              "  return _uploadFilesContinue(outputId);\n",
              "}\n",
              "\n",
              "// This is roughly an async generator (not supported in the browser yet),\n",
              "// where there are multiple asynchronous steps and the Python side is going\n",
              "// to poll for completion of each step.\n",
              "// This uses a Promise to block the python side on completion of each step,\n",
              "// then passes the result of the previous step as the input to the next step.\n",
              "function _uploadFilesContinue(outputId) {\n",
              "  const outputElement = document.getElementById(outputId);\n",
              "  const steps = outputElement.steps;\n",
              "\n",
              "  const next = steps.next(outputElement.lastPromiseValue);\n",
              "  return Promise.resolve(next.value.promise).then((value) => {\n",
              "    // Cache the last promise value to make it available to the next\n",
              "    // step of the generator.\n",
              "    outputElement.lastPromiseValue = value;\n",
              "    return next.value.response;\n",
              "  });\n",
              "}\n",
              "\n",
              "/**\n",
              " * Generator function which is called between each async step of the upload\n",
              " * process.\n",
              " * @param {string} inputId Element ID of the input file picker element.\n",
              " * @param {string} outputId Element ID of the output display.\n",
              " * @return {!Iterable<!Object>} Iterable of next steps.\n",
              " */\n",
              "function* uploadFilesStep(inputId, outputId) {\n",
              "  const inputElement = document.getElementById(inputId);\n",
              "  inputElement.disabled = false;\n",
              "\n",
              "  const outputElement = document.getElementById(outputId);\n",
              "  outputElement.innerHTML = '';\n",
              "\n",
              "  const pickedPromise = new Promise((resolve) => {\n",
              "    inputElement.addEventListener('change', (e) => {\n",
              "      resolve(e.target.files);\n",
              "    });\n",
              "  });\n",
              "\n",
              "  const cancel = document.createElement('button');\n",
              "  inputElement.parentElement.appendChild(cancel);\n",
              "  cancel.textContent = 'Cancel upload';\n",
              "  const cancelPromise = new Promise((resolve) => {\n",
              "    cancel.onclick = () => {\n",
              "      resolve(null);\n",
              "    };\n",
              "  });\n",
              "\n",
              "  // Wait for the user to pick the files.\n",
              "  const files = yield {\n",
              "    promise: Promise.race([pickedPromise, cancelPromise]),\n",
              "    response: {\n",
              "      action: 'starting',\n",
              "    }\n",
              "  };\n",
              "\n",
              "  cancel.remove();\n",
              "\n",
              "  // Disable the input element since further picks are not allowed.\n",
              "  inputElement.disabled = true;\n",
              "\n",
              "  if (!files) {\n",
              "    return {\n",
              "      response: {\n",
              "        action: 'complete',\n",
              "      }\n",
              "    };\n",
              "  }\n",
              "\n",
              "  for (const file of files) {\n",
              "    const li = document.createElement('li');\n",
              "    li.append(span(file.name, {fontWeight: 'bold'}));\n",
              "    li.append(span(\n",
              "        `(${file.type || 'n/a'}) - ${file.size} bytes, ` +\n",
              "        `last modified: ${\n",
              "            file.lastModifiedDate ? file.lastModifiedDate.toLocaleDateString() :\n",
              "                                    'n/a'} - `));\n",
              "    const percent = span('0% done');\n",
              "    li.appendChild(percent);\n",
              "\n",
              "    outputElement.appendChild(li);\n",
              "\n",
              "    const fileDataPromise = new Promise((resolve) => {\n",
              "      const reader = new FileReader();\n",
              "      reader.onload = (e) => {\n",
              "        resolve(e.target.result);\n",
              "      };\n",
              "      reader.readAsArrayBuffer(file);\n",
              "    });\n",
              "    // Wait for the data to be ready.\n",
              "    let fileData = yield {\n",
              "      promise: fileDataPromise,\n",
              "      response: {\n",
              "        action: 'continue',\n",
              "      }\n",
              "    };\n",
              "\n",
              "    // Use a chunked sending to avoid message size limits. See b/62115660.\n",
              "    let position = 0;\n",
              "    do {\n",
              "      const length = Math.min(fileData.byteLength - position, MAX_PAYLOAD_SIZE);\n",
              "      const chunk = new Uint8Array(fileData, position, length);\n",
              "      position += length;\n",
              "\n",
              "      const base64 = btoa(String.fromCharCode.apply(null, chunk));\n",
              "      yield {\n",
              "        response: {\n",
              "          action: 'append',\n",
              "          file: file.name,\n",
              "          data: base64,\n",
              "        },\n",
              "      };\n",
              "\n",
              "      let percentDone = fileData.byteLength === 0 ?\n",
              "          100 :\n",
              "          Math.round((position / fileData.byteLength) * 100);\n",
              "      percent.textContent = `${percentDone}% done`;\n",
              "\n",
              "    } while (position < fileData.byteLength);\n",
              "  }\n",
              "\n",
              "  // All done.\n",
              "  yield {\n",
              "    response: {\n",
              "      action: 'complete',\n",
              "    }\n",
              "  };\n",
              "}\n",
              "\n",
              "scope.google = scope.google || {};\n",
              "scope.google.colab = scope.google.colab || {};\n",
              "scope.google.colab._files = {\n",
              "  _uploadFiles,\n",
              "  _uploadFilesContinue,\n",
              "};\n",
              "})(self);\n",
              "</script> "
            ],
            "text/plain": [
              "<IPython.core.display.HTML object>"
            ]
          },
          "metadata": {},
          "output_type": "display_data"
        }
      ],
      "source": [
        "from google.colab import files\n",
        "uploaded = files.upload()"
      ]
    },
    {
      "cell_type": "code",
      "execution_count": null,
      "metadata": {
        "colab": {
          "background_save": true
        },
        "id": "skj01X9Y3t3G"
      },
      "outputs": [],
      "source": [
        "import pandas as pd \n",
        "import numpy as np\n",
        "import matplotlib.pyplot as plt\n",
        "import seaborn as sns\n",
        "import warnings \n",
        "warnings.filterwarnings('ignore')"
      ]
    },
    {
      "cell_type": "code",
      "execution_count": null,
      "metadata": {
        "colab": {
          "background_save": true
        },
        "id": "4_MJqY4z34pi"
      },
      "outputs": [],
      "source": [
        "data = pd.read_csv(\"abalone.csv\")"
      ]
    },
    {
      "cell_type": "markdown",
      "metadata": {
        "id": "E4WLiqDd38Nl"
      },
      "source": [
        "**2.Performing Visualization**\n",
        "\n",
        "**Univariate Analysis**"
      ]
    },
    {
      "cell_type": "code",
      "execution_count": null,
      "metadata": {
        "colab": {
          "background_save": true
        },
        "id": "XICwfuyZ4F5Q"
      },
      "outputs": [],
      "source": [
        "data.head()"
      ]
    },
    {
      "cell_type": "code",
      "execution_count": null,
      "metadata": {
        "colab": {
          "background_save": true
        },
        "id": "VivZNyyL4JIT"
      },
      "outputs": [],
      "source": [
        "sns.boxplot(data['Diameter'])"
      ]
    },
    {
      "cell_type": "code",
      "execution_count": null,
      "metadata": {
        "colab": {
          "background_save": true
        },
        "id": "WbGNdu514Ngg"
      },
      "outputs": [],
      "source": [
        "plt.hist(data['Diameter'])"
      ]
    },
    {
      "cell_type": "code",
      "execution_count": null,
      "metadata": {
        "colab": {
          "background_save": true
        },
        "id": "P6IIpChF4RZd"
      },
      "outputs": [],
      "source": [
        "plt.plot(data['Diameter'].head(10))"
      ]
    },
    {
      "cell_type": "code",
      "execution_count": null,
      "metadata": {
        "colab": {
          "background_save": true
        },
        "id": "2wTgIQw14UY3"
      },
      "outputs": [],
      "source": [
        "plt.pie(data['Diameter'].head(),autopct='%.3f')"
      ]
    },
    {
      "cell_type": "code",
      "execution_count": null,
      "metadata": {
        "colab": {
          "background_save": true
        },
        "id": "4Pke2ujw4YXc"
      },
      "outputs": [],
      "source": [
        "sns.distplot(data['Diameter'].head(300))"
      ]
    },
    {
      "cell_type": "code",
      "execution_count": null,
      "metadata": {
        "colab": {
          "background_save": true
        },
        "id": "TxP4XCMy4dEm"
      },
      "outputs": [],
      "source": [
        "plt.scatter(data['Diameter'].head(400),data['Length'].head(400))"
      ]
    },
    {
      "cell_type": "code",
      "execution_count": null,
      "metadata": {
        "colab": {
          "background_save": true
        },
        "id": "4osPmUOh4hku"
      },
      "outputs": [],
      "source": [
        "plt.bar(data['Sex'].head(20),data['Rings'].head(20))\n",
        "plt.title('Bar plot')\n",
        "plt.xlabel('Diameter')\n",
        "plt.ylabel('Rings')"
      ]
    },
    {
      "cell_type": "code",
      "execution_count": null,
      "metadata": {
        "colab": {
          "background_save": true
        },
        "id": "6L-muGNy4o0U"
      },
      "outputs": [],
      "source": [
        "sns.barplot(data['Sex'], data['Rings'])"
      ]
    },
    {
      "cell_type": "code",
      "execution_count": null,
      "metadata": {
        "colab": {
          "background_save": true
        },
        "id": "V5UEj3Sy4se3"
      },
      "outputs": [],
      "source": [
        "sns.jointplot(data['Diameter'].head(50),data['Rings'].head(100))"
      ]
    },
    {
      "cell_type": "code",
      "execution_count": null,
      "metadata": {
        "colab": {
          "background_save": true
        },
        "id": "1Mj9AZgP4yaj"
      },
      "outputs": [],
      "source": [
        "sns.barplot('Diameter','Rings',hue='Sex',data=data.head())"
      ]
    },
    {
      "cell_type": "code",
      "execution_count": null,
      "metadata": {
        "colab": {
          "background_save": true
        },
        "id": "OYDADfYv42C0"
      },
      "outputs": [],
      "source": [
        "sns.lineplot(data['Diameter'].head(),data['Rings'].head())"
      ]
    },
    {
      "cell_type": "code",
      "execution_count": null,
      "metadata": {
        "colab": {
          "background_save": true
        },
        "id": "xSzZ9q6947B1"
      },
      "outputs": [],
      "source": [
        "sns.boxplot(data['Sex'].head(10),data['Diameter'].head(10),data['Rings'].head(10))"
      ]
    },
    {
      "cell_type": "code",
      "execution_count": null,
      "metadata": {
        "colab": {
          "background_save": true
        },
        "id": "b5qIh84m4-nU"
      },
      "outputs": [],
      "source": [
        "fig=plt.figure(figsize=(8,5))\n",
        "sns.heatmap(data.head().corr(),annot=True)"
      ]
    },
    {
      "cell_type": "code",
      "execution_count": null,
      "metadata": {
        "colab": {
          "background_save": true
        },
        "id": "S6z-CUYn5DLA"
      },
      "outputs": [],
      "source": [
        "sns.pairplot(data.head(),hue='Height')"
      ]
    },
    {
      "cell_type": "code",
      "execution_count": null,
      "metadata": {
        "colab": {
          "background_save": true
        },
        "id": "pNvy89y15LVt"
      },
      "outputs": [],
      "source": [
        "sns.pairplot(data.head())"
      ]
    },
    {
      "cell_type": "markdown",
      "metadata": {
        "id": "ZR8E10Pa5SMu"
      },
      "source": [
        "**3.Perform Descriptive Statistics on the dataset**"
      ]
    },
    {
      "cell_type": "code",
      "execution_count": null,
      "metadata": {
        "colab": {
          "background_save": true
        },
        "id": "MLveO2KT5VrU"
      },
      "outputs": [],
      "source": [
        "data.head()"
      ]
    },
    {
      "cell_type": "code",
      "execution_count": null,
      "metadata": {
        "colab": {
          "background_save": true
        },
        "id": "GE9ARsNt5akp"
      },
      "outputs": [],
      "source": [
        "data.tail()"
      ]
    },
    {
      "cell_type": "code",
      "execution_count": null,
      "metadata": {
        "colab": {
          "background_save": true
        },
        "id": "0gm70RVH5drp"
      },
      "outputs": [],
      "source": [
        "data.info()"
      ]
    },
    {
      "cell_type": "code",
      "execution_count": null,
      "metadata": {
        "colab": {
          "background_save": true
        },
        "id": "HAqso6NV5g7H"
      },
      "outputs": [],
      "source": [
        "data.describe()"
      ]
    },
    {
      "cell_type": "code",
      "execution_count": null,
      "metadata": {
        "colab": {
          "background_save": true
        },
        "id": "z36j8Lwt5kJV"
      },
      "outputs": [],
      "source": [
        "data.mode().T"
      ]
    },
    {
      "cell_type": "code",
      "execution_count": null,
      "metadata": {
        "colab": {
          "background_save": true
        },
        "id": "VSOZxV-l5nc6"
      },
      "outputs": [],
      "source": [
        "data.shape"
      ]
    },
    {
      "cell_type": "code",
      "execution_count": null,
      "metadata": {
        "colab": {
          "background_save": true
        },
        "id": "lZGJjmp-5q5D"
      },
      "outputs": [],
      "source": [
        "data.kurt()"
      ]
    },
    {
      "cell_type": "code",
      "execution_count": null,
      "metadata": {
        "colab": {
          "background_save": true
        },
        "id": "yjbfHgA05usL"
      },
      "outputs": [],
      "source": [
        "data.skew()"
      ]
    },
    {
      "cell_type": "code",
      "execution_count": null,
      "metadata": {
        "colab": {
          "background_save": true
        },
        "id": "WLlDtoF55x0r"
      },
      "outputs": [],
      "source": [
        "data.var()"
      ]
    },
    {
      "cell_type": "code",
      "execution_count": null,
      "metadata": {
        "colab": {
          "background_save": true
        },
        "id": "p48x6DK451mf"
      },
      "outputs": [],
      "source": [
        "data.nunique()"
      ]
    },
    {
      "cell_type": "markdown",
      "metadata": {
        "id": "MgW8dlUO55q_"
      },
      "source": [
        "**4.Check for missing values and deal with them**"
      ]
    },
    {
      "cell_type": "code",
      "execution_count": null,
      "metadata": {
        "colab": {
          "background_save": true
        },
        "id": "rAj6qFg55_T7"
      },
      "outputs": [],
      "source": [
        "data.isna()"
      ]
    },
    {
      "cell_type": "code",
      "execution_count": null,
      "metadata": {
        "colab": {
          "background_save": true
        },
        "id": "3KfXUqlF6Dkz"
      },
      "outputs": [],
      "source": [
        "data.isna().any()"
      ]
    },
    {
      "cell_type": "code",
      "execution_count": null,
      "metadata": {
        "colab": {
          "background_save": true
        },
        "id": "Qj_uim2D6GtE"
      },
      "outputs": [],
      "source": [
        "data.isna().sum()"
      ]
    },
    {
      "cell_type": "code",
      "execution_count": null,
      "metadata": {
        "colab": {
          "background_save": true
        },
        "id": "UPd_4rxH6JcV"
      },
      "outputs": [],
      "source": [
        "data.isna().any().sum()"
      ]
    },
    {
      "cell_type": "markdown",
      "metadata": {
        "id": "Z2cUuQRz6Mx0"
      },
      "source": [
        "**5.Find the outliers and replace them outliers**"
      ]
    },
    {
      "cell_type": "code",
      "execution_count": null,
      "metadata": {
        "colab": {
          "background_save": true
        },
        "id": "eKPB6Jxz6PRt"
      },
      "outputs": [],
      "source": [
        "sns.boxplot(data['Diameter'])"
      ]
    },
    {
      "cell_type": "code",
      "execution_count": null,
      "metadata": {
        "colab": {
          "background_save": true
        },
        "id": "PyEeoK2Z6Tl-"
      },
      "outputs": [],
      "source": [
        "quant=data.quantile(q=[0.25,0.75])\n",
        "quant"
      ]
    },
    {
      "cell_type": "code",
      "execution_count": null,
      "metadata": {
        "colab": {
          "background_save": true
        },
        "id": "XkihPM8u6XcN"
      },
      "outputs": [],
      "source": [
        "iqr=quant.loc[0.75]-quant.loc[0.25]\n",
        "iqr"
      ]
    },
    {
      "cell_type": "code",
      "execution_count": null,
      "metadata": {
        "colab": {
          "background_save": true
        },
        "id": "9ap1VMk46afK"
      },
      "outputs": [],
      "source": [
        "low=quant.loc[0.25]-(1.5*iqr)\n",
        "low"
      ]
    },
    {
      "cell_type": "code",
      "execution_count": null,
      "metadata": {
        "colab": {
          "background_save": true
        },
        "id": "7ntVsHak6dW9"
      },
      "outputs": [],
      "source": [
        "up=quant.loc[0.75]+(1.5*iqr)\n",
        "up"
      ]
    },
    {
      "cell_type": "code",
      "execution_count": null,
      "metadata": {
        "colab": {
          "background_save": true
        },
        "id": "ZyWdY43q6g64"
      },
      "outputs": [],
      "source": [
        "data['Diameter']=np.where(data['Diameter']<0.155,0.4078,data['Diameter'])\n",
        "sns.boxplot(data['Diameter'])"
      ]
    },
    {
      "cell_type": "code",
      "execution_count": null,
      "metadata": {
        "colab": {
          "background_save": true
        },
        "id": "xsAC3Xf76kO-"
      },
      "outputs": [],
      "source": [
        "sns.boxplot(data['Length'])"
      ]
    },
    {
      "cell_type": "code",
      "execution_count": null,
      "metadata": {
        "colab": {
          "background_save": true
        },
        "id": "IST4w1sG6naw"
      },
      "outputs": [],
      "source": [
        "data['Length']=np.where(data['Length']<0.23,0.52, data['Length'])\n",
        "sns.boxplot(data['Length'])"
      ]
    },
    {
      "cell_type": "code",
      "execution_count": null,
      "metadata": {
        "colab": {
          "background_save": true
        },
        "id": "TqzJUfDD6q8O"
      },
      "outputs": [],
      "source": [
        "sns.boxplot(data['Height'])"
      ]
    },
    {
      "cell_type": "code",
      "execution_count": null,
      "metadata": {
        "colab": {
          "background_save": true
        },
        "id": "NOdWKQuV6zJm"
      },
      "outputs": [],
      "source": [
        "data['Height']=np.where(data['Height']<0.04,0.139, data['Height'])\n",
        "data['Height']=np.where(data['Height']>0.23,0.139, data['Height'])\n",
        "sns.boxplot(data['Height'])"
      ]
    },
    {
      "cell_type": "code",
      "execution_count": null,
      "metadata": {
        "colab": {
          "background_save": true
        },
        "id": "CDMl7-uY63LK"
      },
      "outputs": [],
      "source": [
        "sns.boxplot(data['Whole weight'])"
      ]
    },
    {
      "cell_type": "code",
      "execution_count": null,
      "metadata": {
        "colab": {
          "background_save": true
        },
        "id": "2z3Faxe666hk"
      },
      "outputs": [],
      "source": [
        "data['Whole weight']=np.where(data['Whole weight']>0.9,0.82, data['Whole weight'])\n",
        "sns.boxplot(data['Whole weight'])"
      ]
    },
    {
      "cell_type": "code",
      "execution_count": null,
      "metadata": {
        "colab": {
          "background_save": true
        },
        "id": "QI2quaxP69tl"
      },
      "outputs": [],
      "source": [
        "sns.boxplot(data['Shucked weight'])"
      ]
    },
    {
      "cell_type": "code",
      "execution_count": null,
      "metadata": {
        "colab": {
          "background_save": true
        },
        "id": "x8Uy8vbB7CK4"
      },
      "outputs": [],
      "source": [
        "data['Shucked weight']=np.where(data['Shucked weight']>0.93,0.35, data['Shucked weight'])\n",
        "sns.boxplot(data['Shucked weight'])"
      ]
    },
    {
      "cell_type": "code",
      "execution_count": null,
      "metadata": {
        "colab": {
          "background_save": true
        },
        "id": "6Gwq_hgZ7GLP"
      },
      "outputs": [],
      "source": [
        "sns.boxplot(data['Viscera weight'])"
      ]
    },
    {
      "cell_type": "code",
      "execution_count": null,
      "metadata": {
        "colab": {
          "background_save": true
        },
        "id": "A1Wues0q7IxO"
      },
      "outputs": [],
      "source": [
        "data['Viscera weight']=np.where(data['Viscera weight']>0.46,0.18, data['Viscera weight'])\n",
        "sns.boxplot(data['Viscera weight'])"
      ]
    },
    {
      "cell_type": "code",
      "execution_count": null,
      "metadata": {
        "colab": {
          "background_save": true
        },
        "id": "XH0WpA7h7MF3"
      },
      "outputs": [],
      "source": [
        "sns.boxplot(data['Shell weight'])"
      ]
    },
    {
      "cell_type": "code",
      "execution_count": null,
      "metadata": {
        "colab": {
          "background_save": true
        },
        "id": "8_mxsV017PDc"
      },
      "outputs": [],
      "source": [
        "data['Shell weight']=np.where(data['Shell weight']>0.61,0.2388, data['Shell weight'])\n",
        "sns.boxplot(data['Shell weight'])"
      ]
    },
    {
      "cell_type": "markdown",
      "metadata": {
        "id": "mBu2n5y67Snh"
      },
      "source": [
        "**6.Check for Categorical columns and perform encoding.**"
      ]
    },
    {
      "cell_type": "code",
      "execution_count": null,
      "metadata": {
        "colab": {
          "background_save": true
        },
        "id": "kDqHKVw17U3g"
      },
      "outputs": [],
      "source": [
        "data['Sex'].replace({'M':1,'F':0,'I':2},inplace=True)\n",
        "data"
      ]
    },
    {
      "cell_type": "markdown",
      "metadata": {
        "id": "bwyRAhMO7acZ"
      },
      "source": [
        "**7.Split the data into dependent and independent variables.**"
      ]
    },
    {
      "cell_type": "code",
      "execution_count": null,
      "metadata": {
        "colab": {
          "background_save": true
        },
        "id": "o7_rcHJv7ccB"
      },
      "outputs": [],
      "source": [
        "x=data.drop(columns= ['Rings'])\n",
        "y=data['Rings']\n",
        "x"
      ]
    },
    {
      "cell_type": "code",
      "execution_count": null,
      "metadata": {
        "colab": {
          "background_save": true
        },
        "id": "2AmRQHKl7gpC"
      },
      "outputs": [],
      "source": [
        "y"
      ]
    },
    {
      "cell_type": "markdown",
      "metadata": {
        "id": "035RalJI7j4g"
      },
      "source": [
        "**8.Scale the independent variables**"
      ]
    },
    {
      "cell_type": "code",
      "execution_count": null,
      "metadata": {
        "colab": {
          "background_save": true
        },
        "id": "PWJPLBW77l5r"
      },
      "outputs": [],
      "source": [
        "from sklearn.preprocessing import scale\n",
        "x = scale(x)\n",
        "x"
      ]
    },
    {
      "cell_type": "markdown",
      "metadata": {
        "id": "hNXX8mri7vmL"
      },
      "source": [
        "**9.Split the data into training and testing**"
      ]
    },
    {
      "cell_type": "code",
      "execution_count": null,
      "metadata": {
        "colab": {
          "background_save": true
        },
        "id": "Sy6AlLu77xro"
      },
      "outputs": [],
      "source": [
        "from sklearn.model_selection import train_test_split\n",
        "x_train, x_test, y_train, y_test = train_test_split(x,y, test_size = 0.2)\n",
        "print(x_train.shape, x_test.shape)"
      ]
    },
    {
      "cell_type": "markdown",
      "metadata": {
        "id": "E9ak5WZK72oX"
      },
      "source": [
        "**10.Build the Model**"
      ]
    },
    {
      "cell_type": "code",
      "execution_count": null,
      "metadata": {
        "colab": {
          "background_save": true
        },
        "id": "yKEjmAQl77u8"
      },
      "outputs": [],
      "source": [
        "from sklearn.linear_model import LinearRegression\n",
        "MLR=LinearRegression()"
      ]
    },
    {
      "cell_type": "markdown",
      "metadata": {
        "id": "NrWn3jew7-Zc"
      },
      "source": [
        "**11.Train the model**"
      ]
    },
    {
      "cell_type": "code",
      "execution_count": null,
      "metadata": {
        "colab": {
          "background_save": true
        },
        "id": "wAmozZim8A7h"
      },
      "outputs": [],
      "source": [
        "MLR.fit(x_train,y_train)"
      ]
    },
    {
      "cell_type": "markdown",
      "metadata": {
        "id": "ea5qHm4H8Gkh"
      },
      "source": [
        "**12.Test the model**"
      ]
    },
    {
      "cell_type": "code",
      "execution_count": null,
      "metadata": {
        "colab": {
          "background_save": true
        },
        "id": "pKBkvizt8ItQ"
      },
      "outputs": [],
      "source": [
        "y_pred=MLR.predict(x_test)\n",
        "y_pred"
      ]
    },
    {
      "cell_type": "code",
      "execution_count": null,
      "metadata": {
        "colab": {
          "background_save": true
        },
        "id": "_CuD-rvz8RfR"
      },
      "outputs": [],
      "source": [
        "pred=MLR.predict(x_train)\n",
        "pred"
      ]
    },
    {
      "cell_type": "code",
      "execution_count": null,
      "metadata": {
        "colab": {
          "background_save": true
        },
        "id": "j2auH2if8XEA"
      },
      "outputs": [],
      "source": [
        "from sklearn.metrics import r2_score\n",
        "accuracy=r2_score(y_test,y_pred)\n",
        "accuracy"
      ]
    },
    {
      "cell_type": "code",
      "execution_count": null,
      "metadata": {
        "colab": {
          "background_save": true
        },
        "id": "Nv-qjVBt8a7Z"
      },
      "outputs": [],
      "source": [
        "MLR.predict([[1,0.455,0.365,0.095,0.5140,0.2245,0.1010,0.150]])"
      ]
    },
    {
      "cell_type": "markdown",
      "metadata": {
        "id": "jssKAz608enL"
      },
      "source": [
        "**13.Measure the performance using Metrics**"
      ]
    },
    {
      "cell_type": "code",
      "execution_count": null,
      "metadata": {
        "colab": {
          "background_save": true
        },
        "id": "1XSpOxy38iZR"
      },
      "outputs": [],
      "source": [
        "from sklearn import metrics\n",
        "from sklearn.metrics import mean_squared_error\n",
        "np.sqrt(mean_squared_error(y_test,y_pred))"
      ]
    },
    {
      "cell_type": "markdown",
      "metadata": {
        "id": "VVs0Q9Tk8nsh"
      },
      "source": [
        "**LASSO**"
      ]
    },
    {
      "cell_type": "code",
      "execution_count": null,
      "metadata": {
        "colab": {
          "background_save": true
        },
        "id": "xcZ6xayH8pw-"
      },
      "outputs": [],
      "source": [
        "from sklearn.linear_model import Lasso, Ridge\n",
        "#intialising model\n",
        "lso=Lasso(alpha=0.01,normalize=True)\n",
        "#fit the model\n",
        "lso.fit(x_train,y_train)\n",
        "Lasso(alpha=0.01, normalize=True)\n",
        "#prediction on test data\n",
        "lso_pred=lso.predict(x_test)\n",
        "#coef\n",
        "coef=lso.coef_\n",
        "coef"
      ]
    },
    {
      "cell_type": "code",
      "execution_count": null,
      "metadata": {
        "colab": {
          "background_save": true
        },
        "id": "XnFm7f1J8uw3"
      },
      "outputs": [],
      "source": [
        "from sklearn import metrics\n",
        "from sklearn.metrics import mean_squared_error\n",
        "metrics.r2_score(y_test,lso_pred)"
      ]
    },
    {
      "cell_type": "code",
      "execution_count": null,
      "metadata": {
        "colab": {
          "background_save": true
        },
        "id": "hT6MhpOb8yQB"
      },
      "outputs": [],
      "source": [
        "np.sqrt(mean_squared_error(y_test,lso_pred))"
      ]
    },
    {
      "cell_type": "markdown",
      "metadata": {
        "id": "Eo0vabck81cd"
      },
      "source": [
        "**RIDGE**"
      ]
    },
    {
      "cell_type": "code",
      "execution_count": null,
      "metadata": {
        "colab": {
          "background_save": true
        },
        "id": "xGqh11PZ83Ts"
      },
      "outputs": [],
      "source": [
        "#initialising model\n",
        "rg=Ridge(alpha=0.01,normalize=True)\n",
        "#fit the model\n",
        "rg.fit(x_train,y_train)\n",
        "Ridge(alpha=0.01, normalize=True)\n",
        "#prediction\n",
        "rg_pred=rg.predict(x_test)\n",
        "rg_pred"
      ]
    },
    {
      "cell_type": "code",
      "execution_count": null,
      "metadata": {
        "colab": {
          "background_save": true
        },
        "id": "mbCo4fHb88Y1"
      },
      "outputs": [],
      "source": [
        "rg.coef_"
      ]
    },
    {
      "cell_type": "code",
      "execution_count": null,
      "metadata": {
        "colab": {
          "background_save": true
        },
        "id": "i5M7l6O39KAd"
      },
      "outputs": [],
      "source": [
        "metrics.r2_score(y_test,rg_pred)"
      ]
    },
    {
      "cell_type": "code",
      "execution_count": null,
      "metadata": {
        "colab": {
          "background_save": true
        },
        "id": "FsLba_Tq9QYP"
      },
      "outputs": [],
      "source": [
        "np.sqrt(mean_squared_error(y_test,rg_pred))"
      ]
    }
  ],
  "metadata": {
    "colab": {
      "collapsed_sections": [
        "TtXqf3E7kpT9"
      ],
      "provenance": []
    },
    "kernelspec": {
      "display_name": "Python 3.10.7 64-bit",
      "language": "python",
      "name": "python3"
    },
    "language_info": {
      "codemirror_mode": {
        "name": "ipython",
        "version": 3
      },
      "file_extension": ".py",
      "mimetype": "text/x-python",
      "name": "python",
      "nbconvert_exporter": "python",
      "pygments_lexer": "ipython3",
      "version": "3.10.7"
    },
    "vscode": {
      "interpreter": {
        "hash": "c793e599e125d4ac40466446d8a2df3969ae7664041d2cf703dce7ce71ec499c"
      }
    }
  },
  "nbformat": 4,
  "nbformat_minor": 0
}